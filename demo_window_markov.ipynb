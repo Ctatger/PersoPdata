{
 "cells": [
  {
   "cell_type": "markdown",
   "metadata": {},
   "source": [
    "# **Prediction of window use case using generic markov model**\n",
    "\n",
    "## Section 1 : Imports"
   ]
  },
  {
   "cell_type": "code",
   "execution_count": 1,
   "metadata": {},
   "outputs": [],
   "source": [
    "from generic_markov import generic_markov,evaluate_mk\n",
    "from data_parsing import create_cluster_map, create_window_dataframe, parse_app_data\n",
    "\n",
    "import numpy as np\n",
    "\n",
    "import plotly.graph_objects as go\n",
    "\n",
    "import matplotlib.pyplot as plt\n",
    "import seaborn as sns\n",
    "from matplotlib.pyplot import figure\n",
    "\n",
    "from IPython.display import display\n",
    "import os\n",
    "\n",
    "USE_APP_DATA = True"
   ]
  },
  {
   "cell_type": "markdown",
   "metadata": {},
   "source": [
    "## Section 2 : Data Generation (Optional)\n",
    "\n",
    "This section is only used if no app data is available, random data is generated :\n",
    "- Picking a coordinates using a biased distribution of gps areas\n",
    "- Adding a time, picked randomly in [9:00 ; 10:10] or [17:00 ; 18:10]\n",
    "- Each having their own probability of opening/closing the window"
   ]
  },
  {
   "cell_type": "code",
   "execution_count": 2,
   "metadata": {},
   "outputs": [],
   "source": [
    "if not USE_APP_DATA:\n",
    "    import random\n",
    "    import csv\n",
    "    from random import randint\n",
    "    from data_parsing import format_time,parse_csv\n",
    "\n",
    "\n",
    "    RANGE = 100\n",
    "    window_state = []\n",
    "    days = [randint(0, 6) for x in range(RANGE)]\n",
    "    adresses_polygon = [[43.575414, 1.364311, 43.575223, 1.364048],\n",
    "                        [43.579395, 1.378290, 43.579204, 1.378027],\n",
    "                        [43.597612, 1.433209, 43.597421, 1.432946],\n",
    "                        [43.594434, 1.465131, 43.594243, 1.464868],\n",
    "                        [43.583149, 1.450255, 43.582958, 1.449992]]\n",
    "\n",
    "    for k in range(10):\n",
    "        rand = np.random.choice(list(range(5)), RANGE, p=[0.05, 0.5, 0.1, 0.1, 0.25])\n",
    "        adresses = [[random.uniform(adresses_polygon[i][2], adresses_polygon[i][0]),\n",
    "                     random.uniform(adresses_polygon[i][3], adresses_polygon[i][1])]\n",
    "                    for i in rand]\n",
    "\n",
    "        Starting_hours = np.linspace(9, 10.15)\n",
    "        Stopping_hours = np.linspace(17, 18.15)\n",
    "\n",
    "        possible_times = np.concatenate([Starting_hours, Stopping_hours])\n",
    "        random_times = np.random.choice(possible_times, RANGE)\n",
    "        Time = []\n",
    "\n",
    "        FMT = '%H:%M:%S'\n",
    "        for index in range(RANGE):\n",
    "            Time.append(format_time(random_times[index]))\n",
    "            if (rand[index] == 0 or rand[index] == 1):\n",
    "                window_state.append(np.random.choice([0, 1], 1, p=[0.8, 0.2]))\n",
    "            else:\n",
    "                window_state.append(np.random.choice([0, 1], 1, p=[0.01, 0.99]))\n",
    "\n",
    "        with open('/home/celadodc-rswl.com/corentin.tatger/PersoPdata/app_data/dummy_data_{}.csv'.format(k),\n",
    "                  mode='w') as csv_file:\n",
    "            fieldnames = ['Coordinates', 'Wd_state', 'Time', 'Day']\n",
    "            writer = csv.DictWriter(csv_file, fieldnames=fieldnames)\n",
    "\n",
    "            writer.writeheader()\n",
    "            for i in range(RANGE):\n",
    "                writer.writerow({'Coordinates': adresses[i], 'Wd_state': window_state[i][0],\n",
    "                                 'Time': Time[i], 'Day': days[i]})\n",
    "\n",
    "    df_csv = parse_csv(\n",
    "        \"/home/celadodc-rswl.com/corentin.tatger/PersoPdata/app_data/\")\n",
    "    df_window = create_window_dataframe(df_csv)\n",
    "    mk_window = generic_markov(df_window)\n",
    "    \n"
   ]
  },
  {
   "cell_type": "markdown",
   "metadata": {},
   "source": [
    "## Section 3 : App data parsing\n",
    "\n",
    "If data from the android app is available, parses through it to generate and train the model."
   ]
  },
  {
   "cell_type": "code",
   "execution_count": 3,
   "metadata": {},
   "outputs": [
    {
     "data": {
      "text/html": [
       "<div>\n",
       "<style scoped>\n",
       "    .dataframe tbody tr th:only-of-type {\n",
       "        vertical-align: middle;\n",
       "    }\n",
       "\n",
       "    .dataframe tbody tr th {\n",
       "        vertical-align: top;\n",
       "    }\n",
       "\n",
       "    .dataframe thead th {\n",
       "        text-align: right;\n",
       "    }\n",
       "</style>\n",
       "<table border=\"1\" class=\"dataframe\">\n",
       "  <thead>\n",
       "    <tr style=\"text-align: right;\">\n",
       "      <th></th>\n",
       "      <th>Coordinates</th>\n",
       "      <th>Wd_change</th>\n",
       "      <th>Time</th>\n",
       "      <th>Time_delta</th>\n",
       "      <th>Day</th>\n",
       "      <th>Window_cluster</th>\n",
       "      <th>Coord_cluster</th>\n",
       "      <th>Start_cluster</th>\n",
       "      <th>End_cluster</th>\n",
       "    </tr>\n",
       "  </thead>\n",
       "  <tbody>\n",
       "    <tr>\n",
       "      <th>0</th>\n",
       "      <td>[43.53937, 1.39531]</td>\n",
       "      <td>Opened</td>\n",
       "      <td>14:24:40</td>\n",
       "      <td>NaT</td>\n",
       "      <td>0</td>\n",
       "      <td>2</td>\n",
       "      <td>2</td>\n",
       "      <td>3</td>\n",
       "      <td>2</td>\n",
       "    </tr>\n",
       "    <tr>\n",
       "      <th>1</th>\n",
       "      <td>[43.54074, 1.39667]</td>\n",
       "      <td>Closed</td>\n",
       "      <td>14:24:51</td>\n",
       "      <td>0:00:10</td>\n",
       "      <td>0</td>\n",
       "      <td>3</td>\n",
       "      <td>2</td>\n",
       "      <td>2</td>\n",
       "      <td>3</td>\n",
       "    </tr>\n",
       "    <tr>\n",
       "      <th>2</th>\n",
       "      <td>[43.54193, 1.39781]</td>\n",
       "      <td>Opened</td>\n",
       "      <td>14:25:01</td>\n",
       "      <td>NaT</td>\n",
       "      <td>0</td>\n",
       "      <td>2</td>\n",
       "      <td>2</td>\n",
       "      <td>3</td>\n",
       "      <td>2</td>\n",
       "    </tr>\n",
       "    <tr>\n",
       "      <th>3</th>\n",
       "      <td>[43.54273, 1.39866]</td>\n",
       "      <td>Closed</td>\n",
       "      <td>14:25:06</td>\n",
       "      <td>0:00:10</td>\n",
       "      <td>0</td>\n",
       "      <td>3</td>\n",
       "      <td>2</td>\n",
       "      <td>2</td>\n",
       "      <td>3</td>\n",
       "    </tr>\n",
       "    <tr>\n",
       "      <th>4</th>\n",
       "      <td>[43.54437, 1.40048]</td>\n",
       "      <td>Opened</td>\n",
       "      <td>14:25:17</td>\n",
       "      <td>NaT</td>\n",
       "      <td>0</td>\n",
       "      <td>2</td>\n",
       "      <td>2</td>\n",
       "      <td>3</td>\n",
       "      <td>2</td>\n",
       "    </tr>\n",
       "    <tr>\n",
       "      <th>5</th>\n",
       "      <td>[43.54455, 1.4006733333333334]</td>\n",
       "      <td>Closed</td>\n",
       "      <td>14:25:19</td>\n",
       "      <td>0:00:11</td>\n",
       "      <td>0</td>\n",
       "      <td>3</td>\n",
       "      <td>2</td>\n",
       "      <td>2</td>\n",
       "      <td>3</td>\n",
       "    </tr>\n",
       "    <tr>\n",
       "      <th>6</th>\n",
       "      <td>[43.55012, 1.40621]</td>\n",
       "      <td>Opened</td>\n",
       "      <td>14:25:59</td>\n",
       "      <td>NaT</td>\n",
       "      <td>0</td>\n",
       "      <td>4</td>\n",
       "      <td>4</td>\n",
       "      <td>5</td>\n",
       "      <td>4</td>\n",
       "    </tr>\n",
       "    <tr>\n",
       "      <th>7</th>\n",
       "      <td>[43.55054, 1.40659]</td>\n",
       "      <td>Closed</td>\n",
       "      <td>14:26:01</td>\n",
       "      <td>0:00:40</td>\n",
       "      <td>0</td>\n",
       "      <td>5</td>\n",
       "      <td>4</td>\n",
       "      <td>4</td>\n",
       "      <td>5</td>\n",
       "    </tr>\n",
       "    <tr>\n",
       "      <th>8</th>\n",
       "      <td>[43.54089166666667, 1.3968266666666667]</td>\n",
       "      <td>Opened</td>\n",
       "      <td>04:44:11</td>\n",
       "      <td>NaT</td>\n",
       "      <td>2</td>\n",
       "      <td>2</td>\n",
       "      <td>2</td>\n",
       "      <td>3</td>\n",
       "      <td>2</td>\n",
       "    </tr>\n",
       "    <tr>\n",
       "      <th>9</th>\n",
       "      <td>[43.541045, 1.396985]</td>\n",
       "      <td>Closed</td>\n",
       "      <td>04:44:13</td>\n",
       "      <td>0:00:37</td>\n",
       "      <td>2</td>\n",
       "      <td>3</td>\n",
       "      <td>2</td>\n",
       "      <td>2</td>\n",
       "      <td>3</td>\n",
       "    </tr>\n",
       "    <tr>\n",
       "      <th>10</th>\n",
       "      <td>[43.54193, 1.39781]</td>\n",
       "      <td>Opened</td>\n",
       "      <td>04:44:19</td>\n",
       "      <td>NaT</td>\n",
       "      <td>2</td>\n",
       "      <td>2</td>\n",
       "      <td>2</td>\n",
       "      <td>3</td>\n",
       "      <td>2</td>\n",
       "    </tr>\n",
       "    <tr>\n",
       "      <th>11</th>\n",
       "      <td>[43.54210833333333, 1.3980033333333333]</td>\n",
       "      <td>Closed</td>\n",
       "      <td>04:44:20</td>\n",
       "      <td>0:00:06</td>\n",
       "      <td>2</td>\n",
       "      <td>3</td>\n",
       "      <td>2</td>\n",
       "      <td>2</td>\n",
       "      <td>3</td>\n",
       "    </tr>\n",
       "    <tr>\n",
       "      <th>12</th>\n",
       "      <td>[43.54257, 1.3985]</td>\n",
       "      <td>Opened</td>\n",
       "      <td>04:44:23</td>\n",
       "      <td>NaT</td>\n",
       "      <td>2</td>\n",
       "      <td>2</td>\n",
       "      <td>2</td>\n",
       "      <td>3</td>\n",
       "      <td>2</td>\n",
       "    </tr>\n",
       "    <tr>\n",
       "      <th>13</th>\n",
       "      <td>[43.54257, 1.3985]</td>\n",
       "      <td>Closed</td>\n",
       "      <td>04:44:24</td>\n",
       "      <td>0:00:03</td>\n",
       "      <td>2</td>\n",
       "      <td>3</td>\n",
       "      <td>2</td>\n",
       "      <td>2</td>\n",
       "      <td>3</td>\n",
       "    </tr>\n",
       "    <tr>\n",
       "      <th>14</th>\n",
       "      <td>[43.542948333333335, 1.398905]</td>\n",
       "      <td>Opened</td>\n",
       "      <td>04:44:26</td>\n",
       "      <td>NaT</td>\n",
       "      <td>2</td>\n",
       "      <td>2</td>\n",
       "      <td>2</td>\n",
       "      <td>3</td>\n",
       "      <td>2</td>\n",
       "    </tr>\n",
       "    <tr>\n",
       "      <th>15</th>\n",
       "      <td>[43.543805, 1.3998650000000001]</td>\n",
       "      <td>Closed</td>\n",
       "      <td>04:44:33</td>\n",
       "      <td>0:00:02</td>\n",
       "      <td>2</td>\n",
       "      <td>3</td>\n",
       "      <td>2</td>\n",
       "      <td>2</td>\n",
       "      <td>3</td>\n",
       "    </tr>\n",
       "  </tbody>\n",
       "</table>\n",
       "</div>"
      ],
      "text/plain": [
       "                                Coordinates Wd_change      Time Time_delta  \\\n",
       "0                       [43.53937, 1.39531]    Opened  14:24:40        NaT   \n",
       "1                       [43.54074, 1.39667]    Closed  14:24:51    0:00:10   \n",
       "2                       [43.54193, 1.39781]    Opened  14:25:01        NaT   \n",
       "3                       [43.54273, 1.39866]    Closed  14:25:06    0:00:10   \n",
       "4                       [43.54437, 1.40048]    Opened  14:25:17        NaT   \n",
       "5            [43.54455, 1.4006733333333334]    Closed  14:25:19    0:00:11   \n",
       "6                       [43.55012, 1.40621]    Opened  14:25:59        NaT   \n",
       "7                       [43.55054, 1.40659]    Closed  14:26:01    0:00:40   \n",
       "8   [43.54089166666667, 1.3968266666666667]    Opened  04:44:11        NaT   \n",
       "9                     [43.541045, 1.396985]    Closed  04:44:13    0:00:37   \n",
       "10                      [43.54193, 1.39781]    Opened  04:44:19        NaT   \n",
       "11  [43.54210833333333, 1.3980033333333333]    Closed  04:44:20    0:00:06   \n",
       "12                       [43.54257, 1.3985]    Opened  04:44:23        NaT   \n",
       "13                       [43.54257, 1.3985]    Closed  04:44:24    0:00:03   \n",
       "14           [43.542948333333335, 1.398905]    Opened  04:44:26        NaT   \n",
       "15          [43.543805, 1.3998650000000001]    Closed  04:44:33    0:00:02   \n",
       "\n",
       "   Day  Window_cluster  Coord_cluster Start_cluster End_cluster  \n",
       "0    0               2              2             3           2  \n",
       "1    0               3              2             2           3  \n",
       "2    0               2              2             3           2  \n",
       "3    0               3              2             2           3  \n",
       "4    0               2              2             3           2  \n",
       "5    0               3              2             2           3  \n",
       "6    0               4              4             5           4  \n",
       "7    0               5              4             4           5  \n",
       "8    2               2              2             3           2  \n",
       "9    2               3              2             2           3  \n",
       "10   2               2              2             3           2  \n",
       "11   2               3              2             2           3  \n",
       "12   2               2              2             3           2  \n",
       "13   2               3              2             2           3  \n",
       "14   2               2              2             3           2  \n",
       "15   2               3              2             2           3  "
      ]
     },
     "metadata": {},
     "output_type": "display_data"
    }
   ],
   "source": [
    "if USE_APP_DATA:\n",
    "    directory = 'json_data'\n",
    "    mk_window = generic_markov()\n",
    "    for file in os.listdir(directory):\n",
    "        f = os.path.join(directory, file)\n",
    "        df_app = parse_app_data(f)\n",
    "        df_window = create_window_dataframe(df_app,verbose=False)\n",
    "        for row_id in range(0, len(df_window)):\n",
    "            mk_window.fit(df_window.iloc[[row_id]])\n",
    "    display(mk_window.data_frame)"
   ]
  },
  {
   "cell_type": "markdown",
   "metadata": {},
   "source": [
    "## Section 4 : Display clusters on a map\n",
    "\n",
    "To improve readability and make debugging easier, a function displaying the clusters has been implemented. We use it here to check the if the clusters created using our dataset are logical. We call this function with an option to display data points considered a noise by the clustering algorithm, again to check for errors"
   ]
  },
  {
   "cell_type": "code",
   "execution_count": 4,
   "metadata": {},
   "outputs": [
    {
     "data": {
      "application/vnd.jupyter.widget-view+json": {
       "model_id": "57206234500043238c38704a78ef3200",
       "version_major": 2,
       "version_minor": 0
      },
      "text/plain": [
       "Map(center=[43.53937, 1.39531], controls=(ZoomControl(options=['position', 'zoom_in_text', 'zoom_in_title', 'z…"
      ]
     },
     "metadata": {},
     "output_type": "display_data"
    }
   ],
   "source": [
    "\n",
    "    \n",
    "    c_map = create_cluster_map(mk_window.data_frame,display_noise=True)\n",
    "    c_map"
   ]
  },
  {
   "cell_type": "markdown",
   "metadata": {},
   "source": [
    "## Section 5 : Evaluating the model performances\n",
    "\n",
    "Using functions from the generic_markov library, we evaluate the model's accuracy"
   ]
  },
  {
   "cell_type": "code",
   "execution_count": 5,
   "metadata": {},
   "outputs": [
    {
     "name": "stdout",
     "output_type": "stream",
     "text": [
      "Epoch 0 done.\n",
      "Epoch 1 done.\n",
      "Epoch 2 done.\n",
      "Epoch 3 done.\n",
      "Epoch 4 done.\n",
      "Epoch 5 done.\n",
      "Epoch 6 done.\n",
      "Epoch 7 done.\n",
      "Epoch 8 done.\n",
      "Epoch 9 done.\n"
     ]
    },
    {
     "data": {
      "application/vnd.plotly.v1+json": {
       "config": {
        "plotlyServerURL": "https://plot.ly"
       },
       "data": [
        {
         "line": {
          "color": "#00CED1",
          "width": 6
         },
         "name": "v = 0",
         "type": "scatter",
         "visible": true,
         "x": [
          0,
          1,
          2,
          3,
          4,
          5
         ],
         "y": [
          100,
          100,
          100,
          100,
          100,
          100,
          100
         ]
        },
        {
         "line": {
          "color": "#00CED1",
          "width": 6
         },
         "name": "v = 1",
         "type": "scatter",
         "visible": false,
         "x": [
          0,
          1,
          2,
          3,
          4,
          5
         ],
         "y": [
          100,
          100,
          100,
          100,
          100,
          100,
          100
         ]
        },
        {
         "line": {
          "color": "#00CED1",
          "width": 6
         },
         "name": "v = 2",
         "type": "scatter",
         "visible": false,
         "x": [
          0,
          1,
          2,
          3,
          4,
          5
         ],
         "y": [
          100,
          100,
          100,
          100,
          100,
          100,
          100
         ]
        },
        {
         "line": {
          "color": "#00CED1",
          "width": 6
         },
         "name": "v = 3",
         "type": "scatter",
         "visible": false,
         "x": [
          0,
          1,
          2,
          3,
          4,
          5
         ],
         "y": [
          100,
          100,
          100,
          100,
          100,
          100,
          100
         ]
        },
        {
         "line": {
          "color": "#00CED1",
          "width": 6
         },
         "name": "v = 4",
         "type": "scatter",
         "visible": false,
         "x": [
          0,
          1,
          2,
          3,
          4,
          5
         ],
         "y": [
          100,
          100,
          100,
          100,
          100,
          100,
          100
         ]
        },
        {
         "line": {
          "color": "#00CED1",
          "width": 6
         },
         "name": "v = 5",
         "type": "scatter",
         "visible": false,
         "x": [
          0,
          1,
          2,
          3,
          4,
          5
         ],
         "y": [
          100,
          100,
          100,
          100,
          100,
          100,
          100
         ]
        },
        {
         "line": {
          "color": "#00CED1",
          "width": 6
         },
         "name": "v = 6",
         "type": "scatter",
         "visible": false,
         "x": [
          0,
          1,
          2,
          3,
          4,
          5
         ],
         "y": [
          100,
          100,
          100,
          100,
          100,
          100,
          100
         ]
        },
        {
         "line": {
          "color": "#00CED1",
          "width": 6
         },
         "name": "v = 7",
         "type": "scatter",
         "visible": false,
         "x": [
          0,
          1,
          2,
          3,
          4,
          5
         ],
         "y": [
          100,
          100,
          100,
          100,
          100,
          100,
          100
         ]
        },
        {
         "line": {
          "color": "#00CED1",
          "width": 6
         },
         "name": "v = 8",
         "type": "scatter",
         "visible": false,
         "x": [
          0,
          1,
          2,
          3,
          4,
          5
         ],
         "y": [
          100,
          100,
          100,
          100,
          100,
          100,
          100
         ]
        },
        {
         "line": {
          "color": "#00CED1",
          "width": 6
         },
         "name": "v = 9",
         "type": "scatter",
         "visible": false,
         "x": [
          0,
          1,
          2,
          3,
          4,
          5
         ],
         "y": [
          100,
          100,
          100,
          100,
          100,
          100,
          100
         ]
        }
       ],
       "layout": {
        "sliders": [
         {
          "active": 10,
          "currentvalue": {
           "prefix": "Frequency: "
          },
          "pad": {
           "t": 50
          },
          "steps": [
           {
            "args": [
             {
              "visible": [
               true,
               false,
               false,
               false,
               false,
               false,
               false,
               false,
               false,
               false
              ]
             },
             {
              "title": "Evolution of Markov Accuracy's"
             }
            ],
            "method": "update"
           },
           {
            "args": [
             {
              "visible": [
               false,
               true,
               false,
               false,
               false,
               false,
               false,
               false,
               false,
               false
              ]
             },
             {
              "title": "Evolution of Markov Accuracy's"
             }
            ],
            "method": "update"
           },
           {
            "args": [
             {
              "visible": [
               false,
               false,
               true,
               false,
               false,
               false,
               false,
               false,
               false,
               false
              ]
             },
             {
              "title": "Evolution of Markov Accuracy's"
             }
            ],
            "method": "update"
           },
           {
            "args": [
             {
              "visible": [
               false,
               false,
               false,
               true,
               false,
               false,
               false,
               false,
               false,
               false
              ]
             },
             {
              "title": "Evolution of Markov Accuracy's"
             }
            ],
            "method": "update"
           },
           {
            "args": [
             {
              "visible": [
               false,
               false,
               false,
               false,
               true,
               false,
               false,
               false,
               false,
               false
              ]
             },
             {
              "title": "Evolution of Markov Accuracy's"
             }
            ],
            "method": "update"
           },
           {
            "args": [
             {
              "visible": [
               false,
               false,
               false,
               false,
               false,
               true,
               false,
               false,
               false,
               false
              ]
             },
             {
              "title": "Evolution of Markov Accuracy's"
             }
            ],
            "method": "update"
           },
           {
            "args": [
             {
              "visible": [
               false,
               false,
               false,
               false,
               false,
               false,
               true,
               false,
               false,
               false
              ]
             },
             {
              "title": "Evolution of Markov Accuracy's"
             }
            ],
            "method": "update"
           },
           {
            "args": [
             {
              "visible": [
               false,
               false,
               false,
               false,
               false,
               false,
               false,
               true,
               false,
               false
              ]
             },
             {
              "title": "Evolution of Markov Accuracy's"
             }
            ],
            "method": "update"
           },
           {
            "args": [
             {
              "visible": [
               false,
               false,
               false,
               false,
               false,
               false,
               false,
               false,
               true,
               false
              ]
             },
             {
              "title": "Evolution of Markov Accuracy's"
             }
            ],
            "method": "update"
           },
           {
            "args": [
             {
              "visible": [
               false,
               false,
               false,
               false,
               false,
               false,
               false,
               false,
               false,
               true
              ]
             },
             {
              "title": "Evolution of Markov Accuracy's"
             }
            ],
            "method": "update"
           }
          ]
         }
        ],
        "template": {
         "data": {
          "bar": [
           {
            "error_x": {
             "color": "#2a3f5f"
            },
            "error_y": {
             "color": "#2a3f5f"
            },
            "marker": {
             "line": {
              "color": "#E5ECF6",
              "width": 0.5
             },
             "pattern": {
              "fillmode": "overlay",
              "size": 10,
              "solidity": 0.2
             }
            },
            "type": "bar"
           }
          ],
          "barpolar": [
           {
            "marker": {
             "line": {
              "color": "#E5ECF6",
              "width": 0.5
             },
             "pattern": {
              "fillmode": "overlay",
              "size": 10,
              "solidity": 0.2
             }
            },
            "type": "barpolar"
           }
          ],
          "carpet": [
           {
            "aaxis": {
             "endlinecolor": "#2a3f5f",
             "gridcolor": "white",
             "linecolor": "white",
             "minorgridcolor": "white",
             "startlinecolor": "#2a3f5f"
            },
            "baxis": {
             "endlinecolor": "#2a3f5f",
             "gridcolor": "white",
             "linecolor": "white",
             "minorgridcolor": "white",
             "startlinecolor": "#2a3f5f"
            },
            "type": "carpet"
           }
          ],
          "choropleth": [
           {
            "colorbar": {
             "outlinewidth": 0,
             "ticks": ""
            },
            "type": "choropleth"
           }
          ],
          "contour": [
           {
            "colorbar": {
             "outlinewidth": 0,
             "ticks": ""
            },
            "colorscale": [
             [
              0,
              "#0d0887"
             ],
             [
              0.1111111111111111,
              "#46039f"
             ],
             [
              0.2222222222222222,
              "#7201a8"
             ],
             [
              0.3333333333333333,
              "#9c179e"
             ],
             [
              0.4444444444444444,
              "#bd3786"
             ],
             [
              0.5555555555555556,
              "#d8576b"
             ],
             [
              0.6666666666666666,
              "#ed7953"
             ],
             [
              0.7777777777777778,
              "#fb9f3a"
             ],
             [
              0.8888888888888888,
              "#fdca26"
             ],
             [
              1,
              "#f0f921"
             ]
            ],
            "type": "contour"
           }
          ],
          "contourcarpet": [
           {
            "colorbar": {
             "outlinewidth": 0,
             "ticks": ""
            },
            "type": "contourcarpet"
           }
          ],
          "heatmap": [
           {
            "colorbar": {
             "outlinewidth": 0,
             "ticks": ""
            },
            "colorscale": [
             [
              0,
              "#0d0887"
             ],
             [
              0.1111111111111111,
              "#46039f"
             ],
             [
              0.2222222222222222,
              "#7201a8"
             ],
             [
              0.3333333333333333,
              "#9c179e"
             ],
             [
              0.4444444444444444,
              "#bd3786"
             ],
             [
              0.5555555555555556,
              "#d8576b"
             ],
             [
              0.6666666666666666,
              "#ed7953"
             ],
             [
              0.7777777777777778,
              "#fb9f3a"
             ],
             [
              0.8888888888888888,
              "#fdca26"
             ],
             [
              1,
              "#f0f921"
             ]
            ],
            "type": "heatmap"
           }
          ],
          "heatmapgl": [
           {
            "colorbar": {
             "outlinewidth": 0,
             "ticks": ""
            },
            "colorscale": [
             [
              0,
              "#0d0887"
             ],
             [
              0.1111111111111111,
              "#46039f"
             ],
             [
              0.2222222222222222,
              "#7201a8"
             ],
             [
              0.3333333333333333,
              "#9c179e"
             ],
             [
              0.4444444444444444,
              "#bd3786"
             ],
             [
              0.5555555555555556,
              "#d8576b"
             ],
             [
              0.6666666666666666,
              "#ed7953"
             ],
             [
              0.7777777777777778,
              "#fb9f3a"
             ],
             [
              0.8888888888888888,
              "#fdca26"
             ],
             [
              1,
              "#f0f921"
             ]
            ],
            "type": "heatmapgl"
           }
          ],
          "histogram": [
           {
            "marker": {
             "pattern": {
              "fillmode": "overlay",
              "size": 10,
              "solidity": 0.2
             }
            },
            "type": "histogram"
           }
          ],
          "histogram2d": [
           {
            "colorbar": {
             "outlinewidth": 0,
             "ticks": ""
            },
            "colorscale": [
             [
              0,
              "#0d0887"
             ],
             [
              0.1111111111111111,
              "#46039f"
             ],
             [
              0.2222222222222222,
              "#7201a8"
             ],
             [
              0.3333333333333333,
              "#9c179e"
             ],
             [
              0.4444444444444444,
              "#bd3786"
             ],
             [
              0.5555555555555556,
              "#d8576b"
             ],
             [
              0.6666666666666666,
              "#ed7953"
             ],
             [
              0.7777777777777778,
              "#fb9f3a"
             ],
             [
              0.8888888888888888,
              "#fdca26"
             ],
             [
              1,
              "#f0f921"
             ]
            ],
            "type": "histogram2d"
           }
          ],
          "histogram2dcontour": [
           {
            "colorbar": {
             "outlinewidth": 0,
             "ticks": ""
            },
            "colorscale": [
             [
              0,
              "#0d0887"
             ],
             [
              0.1111111111111111,
              "#46039f"
             ],
             [
              0.2222222222222222,
              "#7201a8"
             ],
             [
              0.3333333333333333,
              "#9c179e"
             ],
             [
              0.4444444444444444,
              "#bd3786"
             ],
             [
              0.5555555555555556,
              "#d8576b"
             ],
             [
              0.6666666666666666,
              "#ed7953"
             ],
             [
              0.7777777777777778,
              "#fb9f3a"
             ],
             [
              0.8888888888888888,
              "#fdca26"
             ],
             [
              1,
              "#f0f921"
             ]
            ],
            "type": "histogram2dcontour"
           }
          ],
          "mesh3d": [
           {
            "colorbar": {
             "outlinewidth": 0,
             "ticks": ""
            },
            "type": "mesh3d"
           }
          ],
          "parcoords": [
           {
            "line": {
             "colorbar": {
              "outlinewidth": 0,
              "ticks": ""
             }
            },
            "type": "parcoords"
           }
          ],
          "pie": [
           {
            "automargin": true,
            "type": "pie"
           }
          ],
          "scatter": [
           {
            "marker": {
             "colorbar": {
              "outlinewidth": 0,
              "ticks": ""
             }
            },
            "type": "scatter"
           }
          ],
          "scatter3d": [
           {
            "line": {
             "colorbar": {
              "outlinewidth": 0,
              "ticks": ""
             }
            },
            "marker": {
             "colorbar": {
              "outlinewidth": 0,
              "ticks": ""
             }
            },
            "type": "scatter3d"
           }
          ],
          "scattercarpet": [
           {
            "marker": {
             "colorbar": {
              "outlinewidth": 0,
              "ticks": ""
             }
            },
            "type": "scattercarpet"
           }
          ],
          "scattergeo": [
           {
            "marker": {
             "colorbar": {
              "outlinewidth": 0,
              "ticks": ""
             }
            },
            "type": "scattergeo"
           }
          ],
          "scattergl": [
           {
            "marker": {
             "colorbar": {
              "outlinewidth": 0,
              "ticks": ""
             }
            },
            "type": "scattergl"
           }
          ],
          "scattermapbox": [
           {
            "marker": {
             "colorbar": {
              "outlinewidth": 0,
              "ticks": ""
             }
            },
            "type": "scattermapbox"
           }
          ],
          "scatterpolar": [
           {
            "marker": {
             "colorbar": {
              "outlinewidth": 0,
              "ticks": ""
             }
            },
            "type": "scatterpolar"
           }
          ],
          "scatterpolargl": [
           {
            "marker": {
             "colorbar": {
              "outlinewidth": 0,
              "ticks": ""
             }
            },
            "type": "scatterpolargl"
           }
          ],
          "scatterternary": [
           {
            "marker": {
             "colorbar": {
              "outlinewidth": 0,
              "ticks": ""
             }
            },
            "type": "scatterternary"
           }
          ],
          "surface": [
           {
            "colorbar": {
             "outlinewidth": 0,
             "ticks": ""
            },
            "colorscale": [
             [
              0,
              "#0d0887"
             ],
             [
              0.1111111111111111,
              "#46039f"
             ],
             [
              0.2222222222222222,
              "#7201a8"
             ],
             [
              0.3333333333333333,
              "#9c179e"
             ],
             [
              0.4444444444444444,
              "#bd3786"
             ],
             [
              0.5555555555555556,
              "#d8576b"
             ],
             [
              0.6666666666666666,
              "#ed7953"
             ],
             [
              0.7777777777777778,
              "#fb9f3a"
             ],
             [
              0.8888888888888888,
              "#fdca26"
             ],
             [
              1,
              "#f0f921"
             ]
            ],
            "type": "surface"
           }
          ],
          "table": [
           {
            "cells": {
             "fill": {
              "color": "#EBF0F8"
             },
             "line": {
              "color": "white"
             }
            },
            "header": {
             "fill": {
              "color": "#C8D4E3"
             },
             "line": {
              "color": "white"
             }
            },
            "type": "table"
           }
          ]
         },
         "layout": {
          "annotationdefaults": {
           "arrowcolor": "#2a3f5f",
           "arrowhead": 0,
           "arrowwidth": 1
          },
          "autotypenumbers": "strict",
          "coloraxis": {
           "colorbar": {
            "outlinewidth": 0,
            "ticks": ""
           }
          },
          "colorscale": {
           "diverging": [
            [
             0,
             "#8e0152"
            ],
            [
             0.1,
             "#c51b7d"
            ],
            [
             0.2,
             "#de77ae"
            ],
            [
             0.3,
             "#f1b6da"
            ],
            [
             0.4,
             "#fde0ef"
            ],
            [
             0.5,
             "#f7f7f7"
            ],
            [
             0.6,
             "#e6f5d0"
            ],
            [
             0.7,
             "#b8e186"
            ],
            [
             0.8,
             "#7fbc41"
            ],
            [
             0.9,
             "#4d9221"
            ],
            [
             1,
             "#276419"
            ]
           ],
           "sequential": [
            [
             0,
             "#0d0887"
            ],
            [
             0.1111111111111111,
             "#46039f"
            ],
            [
             0.2222222222222222,
             "#7201a8"
            ],
            [
             0.3333333333333333,
             "#9c179e"
            ],
            [
             0.4444444444444444,
             "#bd3786"
            ],
            [
             0.5555555555555556,
             "#d8576b"
            ],
            [
             0.6666666666666666,
             "#ed7953"
            ],
            [
             0.7777777777777778,
             "#fb9f3a"
            ],
            [
             0.8888888888888888,
             "#fdca26"
            ],
            [
             1,
             "#f0f921"
            ]
           ],
           "sequentialminus": [
            [
             0,
             "#0d0887"
            ],
            [
             0.1111111111111111,
             "#46039f"
            ],
            [
             0.2222222222222222,
             "#7201a8"
            ],
            [
             0.3333333333333333,
             "#9c179e"
            ],
            [
             0.4444444444444444,
             "#bd3786"
            ],
            [
             0.5555555555555556,
             "#d8576b"
            ],
            [
             0.6666666666666666,
             "#ed7953"
            ],
            [
             0.7777777777777778,
             "#fb9f3a"
            ],
            [
             0.8888888888888888,
             "#fdca26"
            ],
            [
             1,
             "#f0f921"
            ]
           ]
          },
          "colorway": [
           "#636efa",
           "#EF553B",
           "#00cc96",
           "#ab63fa",
           "#FFA15A",
           "#19d3f3",
           "#FF6692",
           "#B6E880",
           "#FF97FF",
           "#FECB52"
          ],
          "font": {
           "color": "#2a3f5f"
          },
          "geo": {
           "bgcolor": "white",
           "lakecolor": "white",
           "landcolor": "#E5ECF6",
           "showlakes": true,
           "showland": true,
           "subunitcolor": "white"
          },
          "hoverlabel": {
           "align": "left"
          },
          "hovermode": "closest",
          "mapbox": {
           "style": "light"
          },
          "paper_bgcolor": "white",
          "plot_bgcolor": "#E5ECF6",
          "polar": {
           "angularaxis": {
            "gridcolor": "white",
            "linecolor": "white",
            "ticks": ""
           },
           "bgcolor": "#E5ECF6",
           "radialaxis": {
            "gridcolor": "white",
            "linecolor": "white",
            "ticks": ""
           }
          },
          "scene": {
           "xaxis": {
            "backgroundcolor": "#E5ECF6",
            "gridcolor": "white",
            "gridwidth": 2,
            "linecolor": "white",
            "showbackground": true,
            "ticks": "",
            "zerolinecolor": "white"
           },
           "yaxis": {
            "backgroundcolor": "#E5ECF6",
            "gridcolor": "white",
            "gridwidth": 2,
            "linecolor": "white",
            "showbackground": true,
            "ticks": "",
            "zerolinecolor": "white"
           },
           "zaxis": {
            "backgroundcolor": "#E5ECF6",
            "gridcolor": "white",
            "gridwidth": 2,
            "linecolor": "white",
            "showbackground": true,
            "ticks": "",
            "zerolinecolor": "white"
           }
          },
          "shapedefaults": {
           "line": {
            "color": "#2a3f5f"
           }
          },
          "ternary": {
           "aaxis": {
            "gridcolor": "white",
            "linecolor": "white",
            "ticks": ""
           },
           "baxis": {
            "gridcolor": "white",
            "linecolor": "white",
            "ticks": ""
           },
           "bgcolor": "#E5ECF6",
           "caxis": {
            "gridcolor": "white",
            "linecolor": "white",
            "ticks": ""
           }
          },
          "title": {
           "x": 0.05
          },
          "xaxis": {
           "automargin": true,
           "gridcolor": "white",
           "linecolor": "white",
           "ticks": "",
           "title": {
            "standoff": 15
           },
           "zerolinecolor": "white",
           "zerolinewidth": 2
          },
          "yaxis": {
           "automargin": true,
           "gridcolor": "white",
           "linecolor": "white",
           "ticks": "",
           "title": {
            "standoff": 15
           },
           "zerolinecolor": "white",
           "zerolinewidth": 2
          }
         }
        },
        "yaxis": {
         "range": [
          0,
          100
         ]
        }
       }
      }
     },
     "metadata": {},
     "output_type": "display_data"
    }
   ],
   "source": [
    "epoch_acc = []\n",
    "for i in range(10):\n",
    "    df_window = df_window.sample(frac=1)\n",
    "    df_train = df_window.sample(frac=0.7)\n",
    "    df_test = df_window.drop(df_train.index)\n",
    "\n",
    "    Mk_chain = generic_markov(df_train.head())\n",
    "    current_acc = [evaluate_mk(df_test, Mk_chain)]\n",
    "\n",
    "    for row_id in range(0, len(df_train)):\n",
    "        Mk_chain.fit(df_train.iloc[[row_id]])\n",
    "        current_acc.append(evaluate_mk(df_test, Mk_chain))\n",
    "\n",
    "    epoch_acc.append(current_acc)\n",
    "    print(\"Epoch {} done.\".format(i))\n",
    "\n",
    "# Create figure\n",
    "gofig = go.Figure()\n",
    "# Add traces, one for each slider step\n",
    "for step in range(10):\n",
    "    gofig.add_trace(\n",
    "        go.Scatter(\n",
    "            visible=False,\n",
    "            line=dict(color=\"#00CED1\", width=6),\n",
    "            name=\"v = \" + str(step),\n",
    "            x=np.arange(0, len(df_train), 1),\n",
    "            y=epoch_acc[step]))\n",
    "    gofig.update_yaxes(range=[0, 100])\n",
    "\n",
    "# Make 10th trace visible\n",
    "gofig.data[0].visible = True\n",
    "\n",
    "# Create and add slider\n",
    "steps = []\n",
    "for i in range(len(gofig.data)):\n",
    "    step = dict(\n",
    "        method=\"update\",\n",
    "        args=[{\"visible\": [False] * len(gofig.data)},\n",
    "                {\"title\": \"Evolution of Markov Accuracy's\"}],  # layout attribute\n",
    "    )\n",
    "    step[\"args\"][0][\"visible\"][i] = True  # Toggle i'th trace to \"visible\"\n",
    "    steps.append(step)\n",
    "\n",
    "sliders = [dict(\n",
    "    active=10,\n",
    "    currentvalue={\"prefix\": \"Frequency: \"},\n",
    "    pad={\"t\": 50},\n",
    "    steps=steps\n",
    ")]\n",
    "\n",
    "gofig.update_layout(\n",
    "    sliders=sliders\n",
    ")\n",
    "gofig.show()"
   ]
  },
  {
   "cell_type": "code",
   "execution_count": null,
   "metadata": {},
   "outputs": [],
   "source": []
  }
 ],
 "metadata": {
  "interpreter": {
   "hash": "8bb4d4778240f02d9ff6232bd1e33acf8fb3202a765b53a38f0806e98d6fe842"
  },
  "kernelspec": {
   "display_name": "Python 3.8.10 ('P_venv')",
   "language": "python",
   "name": "python3"
  },
  "language_info": {
   "codemirror_mode": {
    "name": "ipython",
    "version": 3
   },
   "file_extension": ".py",
   "mimetype": "text/x-python",
   "name": "python",
   "nbconvert_exporter": "python",
   "pygments_lexer": "ipython3",
   "version": "3.8.10"
  },
  "orig_nbformat": 4
 },
 "nbformat": 4,
 "nbformat_minor": 2
}
