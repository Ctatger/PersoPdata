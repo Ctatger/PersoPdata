{
 "cells": [
  {
   "cell_type": "markdown",
   "metadata": {},
   "source": [
    "# **Prediction of window use case using generic markov model**\n",
    "\n",
    "## Section 1 : Imports"
   ]
  },
  {
   "cell_type": "code",
   "execution_count": 11,
   "metadata": {},
   "outputs": [],
   "source": [
    "import generic_markov\n",
    "from data_parsing import create_cluster_map, create_window_dataframe, parse_app_data\n",
    "\n",
    "import numpy as np\n",
    "\n",
    "import matplotlib.pyplot as plt\n",
    "import seaborn as sns\n",
    "from matplotlib.pyplot import figure\n",
    "\n",
    "\n",
    "USE_APP_DATA = False"
   ]
  },
  {
   "cell_type": "markdown",
   "metadata": {},
   "source": [
    "## Section 2 : Data Generation (Optional)\n",
    "\n",
    "This section is only used if no app data is available, random data is generated :\n",
    "- Picking a coordinates using a biased distribution of gps areas\n",
    "- Adding a time, picked randomly in [9:00 ; 10:10] or [17:00 ; 18:10]\n",
    "- Each having their own probability of opening/closing the window"
   ]
  },
  {
   "cell_type": "code",
   "execution_count": 12,
   "metadata": {},
   "outputs": [],
   "source": [
    "if USE_APP_DATA:\n",
    "    import random\n",
    "    import csv\n",
    "    from random import randint\n",
    "    from data_parsing import format_time,parse_csv\n",
    "\n",
    "\n",
    "    RANGE = 100\n",
    "    window_state = []\n",
    "    days = [randint(0, 6) for x in range(RANGE)]\n",
    "    adresses_polygon = [[43.575414, 1.364311, 43.575223, 1.364048],\n",
    "                        [43.579395, 1.378290, 43.579204, 1.378027],\n",
    "                        [43.597612, 1.433209, 43.597421, 1.432946],\n",
    "                        [43.594434, 1.465131, 43.594243, 1.464868],\n",
    "                        [43.583149, 1.450255, 43.582958, 1.449992]]\n",
    "\n",
    "    for k in range(10):\n",
    "            rand = np.random.choice(list(range(5)), RANGE, p=[0.05, 0.5, 0.1, 0.1, 0.25])\n",
    "            adresses = [[random.uniform(adresses_polygon[i][2], adresses_polygon[i][0]),\n",
    "                        random.uniform(adresses_polygon[i][3], adresses_polygon[i][1])]\n",
    "                        for i in rand]\n",
    "\n",
    "            Starting_hours = np.linspace(9, 10.15)\n",
    "            Stopping_hours = np.linspace(17, 18.15)\n",
    "\n",
    "            possible_times = np.concatenate([Starting_hours, Stopping_hours])\n",
    "            random_times = np.random.choice(possible_times, RANGE)\n",
    "            Time = []\n",
    "\n",
    "            FMT = '%H:%M'\n",
    "            for index in range(RANGE):\n",
    "                Time.append(format_time(random_times[index]))\n",
    "                if (rand[index] == 0 or rand[index] == 1):\n",
    "                    window_state.append(np.random.choice([0, 1], 1, p=[0.8, 0.2]))\n",
    "                else:\n",
    "                    window_state.append(np.random.choice([0, 1], 1, p=[0.01, 0.99]))\n",
    "\n",
    "            with open('/home/celadodc-rswl.com/corentin.tatger/PersoPdata/app_data/dummy_data_{}.csv'.format(k),\n",
    "                    mode='w') as csv_file:\n",
    "                fieldnames = ['Pos_lat', 'Pos_lon', 'Wd_state', 'Time', 'Day']\n",
    "                writer = csv.DictWriter(csv_file, fieldnames=fieldnames)\n",
    "\n",
    "                writer.writeheader()\n",
    "                for i in range(RANGE):\n",
    "                    writer.writerow({'Pos_lat': adresses[i][0], 'Pos_lon': adresses[i][1], 'Wd_state': window_state[i][0],\n",
    "                                    'Time': Time[i], 'Day': days[i]})\n",
    "    df_csv = parse_csv(\"/home/celadodc-rswl.com/corentin.tatger/PersoPdata/app_data/\")\n",
    "    df_window = create_window_dataframe(df_csv)\n"
   ]
  },
  {
   "cell_type": "markdown",
   "metadata": {},
   "source": [
    "## Section 3: App data parsing\n",
    "\n",
    "If data from the android app is available, parses through it to generate and train the model."
   ]
  },
  {
   "cell_type": "code",
   "execution_count": null,
   "metadata": {},
   "outputs": [],
   "source": [
    "if not USE_APP_DATA:\n",
    "    "
   ]
  },
  {
   "cell_type": "markdown",
   "metadata": {},
   "source": [
    "## Section 4 : Display clusters on a map\n",
    "\n",
    "To improve readability and make debugging easier, a function displaying the clusters has been implemented. We use it here to check the if the clusters created using our dataset are logical. We call this function with an option to display data points considered a noise by the clustering algorithm, again to check for errors"
   ]
  },
  {
   "cell_type": "code",
   "execution_count": null,
   "metadata": {},
   "outputs": [],
   "source": [
    "\n",
    "    "
   ]
  },
  {
   "cell_type": "markdown",
   "metadata": {},
   "source": []
  }
 ],
 "metadata": {
  "interpreter": {
   "hash": "8bb4d4778240f02d9ff6232bd1e33acf8fb3202a765b53a38f0806e98d6fe842"
  },
  "kernelspec": {
   "display_name": "Python 3.8.10 ('P_venv')",
   "language": "python",
   "name": "python3"
  },
  "language_info": {
   "codemirror_mode": {
    "name": "ipython",
    "version": 3
   },
   "file_extension": ".py",
   "mimetype": "text/x-python",
   "name": "python",
   "nbconvert_exporter": "python",
   "pygments_lexer": "ipython3",
   "version": "3.8.10"
  },
  "orig_nbformat": 4
 },
 "nbformat": 4,
 "nbformat_minor": 2
}
