{
 "cells": [
  {
   "cell_type": "markdown",
   "id": "64226ac0",
   "metadata": {},
   "source": [
    "# Tunnel detection and Notif center linking\n",
    "\n",
    "This notebook will test out the relation between the tunnel deteciton algo and the user notification (see respectively *Tunnel.ipynb* and *ReactiveX implementation V1 - OK.ipynb*\n",
    "\n",
    "## Imports"
   ]
  },
  {
   "cell_type": "code",
   "execution_count": 1,
   "id": "fc11fe53",
   "metadata": {},
   "outputs": [
    {
     "name": "stderr",
     "output_type": "stream",
     "text": [
      "2022-02-10 11:36:21.274314: W tensorflow/stream_executor/platform/default/dso_loader.cc:64] Could not load dynamic library 'libcudart.so.11.0'; dlerror: libcudart.so.11.0: cannot open shared object file: No such file or directory\n",
      "2022-02-10 11:36:21.274396: I tensorflow/stream_executor/cuda/cudart_stub.cc:29] Ignore above cudart dlerror if you do not have a GPU set up on your machine.\n"
     ]
    }
   ],
   "source": [
    "import tensorflow as tf\n",
    "\n",
    "from tensorflow import keras\n",
    "#from tensorflow.keras import layers\n",
    "#from tensorflow.keras.layers.experimental import preprocessing\n",
    "\n",
    "\n",
    "import os\n",
    "import sys\n",
    "import glob\n",
    "from time import sleep\n",
    "#Import Data \n",
    "#from log_processor.log_processor import get_reduced_dataset\n",
    "import datetime\n",
    "\n",
    "#Data Management\n",
    "import pandas as pd\n",
    "import geopandas as gpd\n",
    "from shapely.geometry import Point\n",
    "import numpy as np\n",
    "\n",
    "#Data visualization\n",
    "import matplotlib as mpl\n",
    "import matplotlib.pyplot as plt\n",
    "import seaborn as sns\n",
    "mpl.style.use('seaborn')\n",
    "\n",
    "from ipyleaflet import Map, Polyline, basemaps, CircleMarker, DivIcon, Marker, Rectangle, GeoJSON\n",
    "\n",
    "# Machine Learning\n",
    "import tensorflow as tf\n",
    "from tensorflow import keras\n",
    "\n",
    "# Performing clustering\n",
    "from sklearn.cluster import AgglomerativeClustering\n",
    "\n",
    "import math\n",
    "\n",
    "# ReactiveX\n",
    "from rx import operators as ops\n",
    "from rx.scheduler.eventloop import AsyncIOScheduler\n",
    "from rx.subject import Subject\n",
    "\n",
    "import asyncio\n",
    "\n",
    "import gc\n",
    "\n",
    "import json\n",
    "import random"
   ]
  },
  {
   "cell_type": "markdown",
   "id": "69d14ba6",
   "metadata": {},
   "source": [
    "## Local functions\n",
    "Functions processing the distance between two gps data points, allowing us to filter incoherent data"
   ]
  },
  {
   "cell_type": "code",
   "execution_count": 2,
   "id": "5afd16d1",
   "metadata": {},
   "outputs": [],
   "source": [
    "def haversine_formula(lat1, lon1, lat2, lon2, R=6378.137):\n",
    "    \"\"\"\n",
    "    Calculates the distance in meters between two point on the globe\n",
    "    \"\"\"\n",
    "    dLat = (lat2-lat1) * np.pi / 180\n",
    "    dLon = (lon2-lon1) * np.pi / 180\n",
    "    a = np.sin(dLat/2) * np.sin(dLat/2) + np.cos(lat1*np.pi/180)*np.cos(lat2*np.pi/180)*np.sin(dLon/2)*np.sin(dLon/2)\n",
    "    c = 2*np.arctan2(np.sqrt(a), np.sqrt(1-a))\n",
    "    return R * c*1000 # meters\n",
    "\n",
    "def excessive_speed(coord1, coord2, threshold_kmh):\n",
    "    \"\"\"\n",
    "    Determines if the speed between the two coordinate points is higher than threshold_kmh value\n",
    "    \"\"\"\n",
    "    t1, lat1, lon1 = coord1\n",
    "    if t1 == 0:\n",
    "        return False\n",
    "    \n",
    "    t2, lat2, lon2 = coord2\n",
    "    d = haversine_formula(lat1, lon1, lat2, lon2)\n",
    "    v = 3600*d/np.abs(t1 - t2) #km/h [3600*m/ms -> km/h]\n",
    "    return v>threshold_kmh\n",
    "\n",
    "def remove_incoherent_gps_entry(df, high_delta_time_tolerance=5000, low_delta_time_tolerance=0, threshold_kmh=250):\n",
    "    \"\"\"\n",
    "    Check every entry and keeps only those which satisfies constraints (delta timestamp and excessive speed)\n",
    "    Columns of the df should be : ['gpsts', 'lat', 'lon']\n",
    "    \"\"\"\n",
    "    #Removing weird gps times avec la vitesse maximale possible\n",
    "    weird_gps_times = []\n",
    "    prev_loc = (0, 0.0, 0.0)\n",
    "    df_val = df[[' gpsts', ' lat', ' lon']].values\n",
    "    for index, i in enumerate(df.index):\n",
    "        gps_time = df_val[index][0] \n",
    "        current_loc = df_val[index][1:]\n",
    "        if i<(gps_time - low_delta_time_tolerance) \\\n",
    "        or i>(gps_time+high_delta_time_tolerance) \\\n",
    "        or excessive_speed(prev_loc, (i, current_loc[0], current_loc[1]), threshold_kmh):\n",
    "            weird_gps_times.append(i)\n",
    "        else:\n",
    "            prev_loc = (i, current_loc[0], current_loc[1])\n",
    "    df = df.drop(weird_gps_times)\n",
    "    return df\n",
    "def color_str(r,g,b):\n",
    "    return '#'+'0x{:02x}'.format(min(r,255))[2:]+'0x{:02x}'.format(min(g,255))[2:]+'0x{:02x}'.format(min(b,255))[2:]\n",
    "\n",
    "def get_obj_size(obj):\n",
    "    marked = {id(obj)}\n",
    "    obj_q = [obj]\n",
    "    sz = 0\n",
    "\n",
    "    while obj_q:\n",
    "        sz += sum(map(sys.getsizeof, obj_q))\n",
    "\n",
    "        # Lookup all the object referred to by the object in obj_q.\n",
    "        # See: https://docs.python.org/3.7/library/gc.html#gc.get_referents\n",
    "        all_refr = ((id(o), o) for o in gc.get_referents(*obj_q))\n",
    "\n",
    "        # Filter object that are already marked.\n",
    "        # Using dict notation will prevent repeated objects.\n",
    "        new_refr = {o_id: o for o_id, o in all_refr if o_id not in marked and not isinstance(o, type)}\n",
    "\n",
    "        # The new obj_q will be the ones that were not marked,\n",
    "        # and we will update marked with their ids so we will\n",
    "        # not traverse them again.\n",
    "        obj_q = new_refr.values()\n",
    "        marked.update(new_refr.keys())\n",
    "\n",
    "    return sz"
   ]
  },
  {
   "cell_type": "markdown",
   "id": "4b30cb54",
   "metadata": {},
   "source": [
    "## Notification Center"
   ]
  },
  {
   "cell_type": "code",
   "execution_count": 3,
   "id": "29abebae",
   "metadata": {},
   "outputs": [],
   "source": [
    "class NotificationCenter():\n",
    "    def __init__(self):\n",
    "        self.notif = []\n",
    "        self.good_prediction=0\n",
    "        self.nb_prediction=0\n",
    "    \n",
    "    def reset(self):\n",
    "        self.notif=[]\n",
    "        self.good_prediction=0\n",
    "        self.nb_prediction=0\n",
    "        \n",
    "    def write(self, s):\n",
    "        #print(\"NOTIFICATION CENTER received :\", s)\n",
    "        self.notif.append(s)\n",
    "        \n",
    "    def __repr__(self):\n",
    "        s = 'Notification center report : '\n",
    "        for l in self.notif:\n",
    "            s='{}\\n{}'.format(s, l)\n",
    "        if self.nb_prediction >0:\n",
    "            s='{}\\nAccuracy {}% for {} predictions'.format(s, int(100*(self.good_prediction/self.nb_prediction)), self.nb_prediction)\n",
    "        return s\n",
    "    \n",
    "    def random_color(feature):\n",
    "        return {\n",
    "            'color': 'black',\n",
    "            'fillColor': random.choice(['red', 'yellow', 'green', 'orange']),\n",
    "        }\n",
    "\n",
    "notification_center = NotificationCenter()"
   ]
  },
  {
   "cell_type": "markdown",
   "id": "55bc23c2",
   "metadata": {},
   "source": [
    "## Tunnel map creation\n",
    "\n",
    "Defining **reduce_tunnel_from_list** function to filter any tunnels shorter than a specified meters threshold **MAX_DISTANCE_BTWN_TUNNELS_M**"
   ]
  },
  {
   "cell_type": "code",
   "execution_count": 4,
   "id": "85d44d3c",
   "metadata": {},
   "outputs": [],
   "source": [
    "def reduce_tunnel_from_list(l):\n",
    "    MINIMAL_TUNNEL_LEN_M = 450 #May change with user preference or longer length threshold\n",
    "    MAX_DISTANCE_BTWN_TUNNELS_M = 10\n",
    "    features = l.copy()\n",
    "    for i, f1 in enumerate(l):\n",
    "        coord_1a = f1['geometry']['coordinates'][0]\n",
    "        coord_1b = f1['geometry']['coordinates'][-1]\n",
    "        for j, f2 in enumerate(l):\n",
    "            if i != j and features[i] is not None and features[j] is not None:\n",
    "                coord_2a = f2['geometry']['coordinates'][0]\n",
    "                coord_2b = f2['geometry']['coordinates'][-1]\n",
    "                if haversine_formula(coord_1a[1], coord_1a[0], coord_2a[1], coord_2a[0]) < MAX_DISTANCE_BTWN_TUNNELS_M:\n",
    "                    #tunnels.append((i, j, 'aa'))\n",
    "                    features[i]['properties']['shape_len']+=features[j]['properties']['shape_len']\n",
    "                    features[i]['geometry']['coordinates'].reverse()\n",
    "                    features[i]['geometry']['coordinates'] = features[i]['geometry']['coordinates'] + features[j]['geometry']['coordinates']\n",
    "                    features[j]=None\n",
    "                elif haversine_formula(coord_1a[1], coord_1a[0], coord_2b[1], coord_2b[0]) < MAX_DISTANCE_BTWN_TUNNELS_M:\n",
    "                    #tunnels.append((j,i, 'ba'))\n",
    "                    features[i]['properties']['shape_len']+=features[i]['properties']['shape_len']\n",
    "                    features[i]['geometry']['coordinates'] = features[j]['geometry']['coordinates'] + features[i]['geometry']['coordinates']\n",
    "                    features[j]=None\n",
    "                elif haversine_formula(coord_1b[1], coord_1b[0], coord_2a[1], coord_2a[0]) < MAX_DISTANCE_BTWN_TUNNELS_M:\n",
    "                    #tunnels.append((i,j, 'ba'))\n",
    "                    features[i]['properties']['shape_len']+=features[j]['properties']['shape_len']\n",
    "                    features[i]['geometry']['coordinates'] = features[i]['geometry']['coordinates'] + features[j]['geometry']['coordinates']\n",
    "                    features[j]=None\n",
    "                elif haversine_formula(coord_1b[1], coord_1b[0], coord_2b[1], coord_2b[0]) < MAX_DISTANCE_BTWN_TUNNELS_M:\n",
    "                    #tunnels.append((i,j, 'bb'))\n",
    "                    features[i]['properties']['shape_len']+=features[j]['properties']['shape_len']\n",
    "                    features[j]['geometry']['coordinates'].reverse()\n",
    "                    features[i]['geometry']['coordinates'] = features[i]['geometry']['coordinates'] + features[j]['geometry']['coordinates']\n",
    "                    features[j]=None\n",
    "\n",
    "    return list(filter(lambda a: (a['properties']['shape_len'] > MINIMAL_TUNNEL_LEN_M) if (a is not None) else False , features))"
   ]
  },
  {
   "cell_type": "markdown",
   "id": "dff9ad5d",
   "metadata": {},
   "source": [
    "Resetting the notif center to flush any unwanted messages from showing then parsing the geoJson file and filtering using the **reduce_tunnel_from_list** function"
   ]
  },
  {
   "cell_type": "code",
   "execution_count": 5,
   "id": "11c34f4c",
   "metadata": {},
   "outputs": [
    {
     "ename": "NameError",
     "evalue": "name 'last_distance' is not defined",
     "output_type": "error",
     "traceback": [
      "\u001b[0;31m---------------------------------------------------------------------------\u001b[0m",
      "\u001b[0;31mNameError\u001b[0m                                 Traceback (most recent call last)",
      "\u001b[1;32m/home/celadodc-rswl.com/corentin.tatger/Pdata_dev/Tunnel_notif copy.ipynb Cell 10'\u001b[0m in \u001b[0;36m<module>\u001b[0;34m\u001b[0m\n\u001b[1;32m     <a href='vscode-notebook-cell:/home/celadodc-rswl.com/corentin.tatger/Pdata_dev/Tunnel_notif%20copy.ipynb#ch0000009?line=11'>12</a>\u001b[0m \u001b[39mdef\u001b[39;00m \u001b[39mfit_predict\u001b[39m(ti, ct):\n\u001b[1;32m     <a href='vscode-notebook-cell:/home/celadodc-rswl.com/corentin.tatger/Pdata_dev/Tunnel_notif%20copy.ipynb#ch0000009?line=12'>13</a>\u001b[0m     \u001b[39mpass\u001b[39;00m \u001b[39m#A remplir, si la trajectoire prévue passe par un tunnel, prévenir.\u001b[39;00m\n\u001b[0;32m---> <a href='vscode-notebook-cell:/home/celadodc-rswl.com/corentin.tatger/Pdata_dev/Tunnel_notif%20copy.ipynb#ch0000009?line=14'>15</a>\u001b[0m \u001b[39mclass\u001b[39;00m \u001b[39mMySubject\u001b[39;00m(Subject):\n\u001b[1;32m     <a href='vscode-notebook-cell:/home/celadodc-rswl.com/corentin.tatger/Pdata_dev/Tunnel_notif%20copy.ipynb#ch0000009?line=15'>16</a>\u001b[0m     last_prediction_ts\u001b[39m=\u001b[39m\u001b[39m0\u001b[39m\n\u001b[1;32m     <a href='vscode-notebook-cell:/home/celadodc-rswl.com/corentin.tatger/Pdata_dev/Tunnel_notif%20copy.ipynb#ch0000009?line=16'>17</a>\u001b[0m     last_distance\n",
      "\u001b[1;32m/home/celadodc-rswl.com/corentin.tatger/Pdata_dev/Tunnel_notif copy.ipynb Cell 10'\u001b[0m in \u001b[0;36mMySubject\u001b[0;34m()\u001b[0m\n\u001b[1;32m     <a href='vscode-notebook-cell:/home/celadodc-rswl.com/corentin.tatger/Pdata_dev/Tunnel_notif%20copy.ipynb#ch0000009?line=14'>15</a>\u001b[0m \u001b[39mclass\u001b[39;00m \u001b[39mMySubject\u001b[39;00m(Subject):\n\u001b[1;32m     <a href='vscode-notebook-cell:/home/celadodc-rswl.com/corentin.tatger/Pdata_dev/Tunnel_notif%20copy.ipynb#ch0000009?line=15'>16</a>\u001b[0m     last_prediction_ts\u001b[39m=\u001b[39m\u001b[39m0\u001b[39m\n\u001b[0;32m---> <a href='vscode-notebook-cell:/home/celadodc-rswl.com/corentin.tatger/Pdata_dev/Tunnel_notif%20copy.ipynb#ch0000009?line=16'>17</a>\u001b[0m     last_distance\n",
      "\u001b[0;31mNameError\u001b[0m: name 'last_distance' is not defined"
     ]
    }
   ],
   "source": [
    "notification_center.reset()\n",
    "scheduler = AsyncIOScheduler(asyncio.get_event_loop())\n",
    "\n",
    "#Parsing geojson file to gather tunnel locations\n",
    "with open('idf_tunnels.geojson', 'r') as f:\n",
    "    data = json.load(f)\n",
    "    \n",
    "for f in data['features']:\n",
    "    if 'nom' not in f['properties'].keys():\n",
    "        f['properties']['nom']='No Name'\n",
    "        \n",
    "def fit_predict(ti, ct):\n",
    "    pass #A remplir, si la trajectoire prévue passe par un tunnel, prévenir.\n",
    "\n",
    "class MySubject(Subject):\n",
    "    last_prediction_ts=0\n",
    "    last_distance\n",
    "\n",
    "i=0\n",
    "j=0\n",
    "final_features=[]\n",
    "while j < len(data['features']):\n",
    "    first_name = data['features'][i]['properties']['nom']\n",
    "    j=i+1\n",
    "    while data['features'][j]['properties']['nom'] == first_name if j<len(data['features']) else False:\n",
    "        j+=1\n",
    "    #Do things\n",
    "    final_features+=reduce_tunnel_from_list(data['features'][i:j].copy())\n",
    "    i=j\n",
    "del data['features']\n",
    "data['features']=final_features"
   ]
  },
  {
   "cell_type": "markdown",
   "id": "b5a870b1",
   "metadata": {},
   "source": [
    "## Map display\n",
    "Checking if the shorter tunnels have been filtered out"
   ]
  },
  {
   "cell_type": "code",
   "execution_count": 6,
   "id": "4349faea",
   "metadata": {},
   "outputs": [
    {
     "data": {
      "application/vnd.jupyter.widget-view+json": {
       "model_id": "159c45530a224aeeaefc58b44f85b3b1",
       "version_major": 2,
       "version_minor": 0
      },
      "text/plain": [
       "Map(center=[48.852, 2.246], controls=(ZoomControl(options=['position', 'zoom_in_text', 'zoom_in_title', 'zoom_…"
      ]
     },
     "metadata": {},
     "output_type": "display_data"
    }
   ],
   "source": [
    "m = Map(basemap=basemaps.OpenStreetMap.France, zoom=9, center=(48.852,2.246), scroll_wheel_zoom=True)\n",
    "\n",
    "geo_json = GeoJSON(\n",
    "    data=data,\n",
    "    style={\n",
    "        'color':'red', 'opacity': 1, 'fillOpacity': 0.1, 'weight': 3\n",
    "    },\n",
    "    hover_style={\n",
    "        'color':'black', 'opacity': 1, 'fillOpacity': 0.1, 'weight': 4\n",
    "    }\n",
    ")\n",
    "m.add_layer(geo_json)\n",
    "\n",
    "m"
   ]
  },
  {
   "cell_type": "markdown",
   "id": "06f11acf",
   "metadata": {},
   "source": [
    "### Reactive X implementation"
   ]
  },
  {
   "cell_type": "code",
   "execution_count": null,
   "id": "a5268ffb",
   "metadata": {},
   "outputs": [],
   "source": [
    "subject = MySubject()\n",
    "\n",
    "predictor = subject.pipe(\n",
    "            #stores inputed array as a dict, predicting next positions in the process\n",
    "            ops.map(lambda x: {'prev_lat':x[0], 'prev_lon':x[1], 'expd_lat':fit_predict(x[2],x[0],x[1])[0], 'expd_lon':fit_predict(x[2],x[0],x[1])[0], 'ts':x[2]})\n",
    "            # Insert position only if distance to the tunnel is lower than threshold and has decreased since last check\n",
    "            ops.filter(lambda x: ))\n",
    "    \n",
    "    \n",
    "def send_notification(x):\n",
    "    subject.last_prediction_ts = x['ts']\n",
    "    s = '{} : You are approaching a tunnel, would you like to turn on air recycling and roll up the window ?'.format(datetime.datetime.fromtimestamp(x['ts']/1000).strftime(\"%c\"))\n",
    "\n",
    "    notification_center.write(s)\n",
    "\n",
    "def on_error(ex):\n",
    "    print(ex)\n",
    "    \n",
    "predictor.subscribe(send_notification, on_error, scheduler=scheduler)\n",
    "\n",
    "vals =  df_car[['ts', 'TempInterval', 'ClimTempDisplay', 'SmoothedExternalTemp' ]].values\n",
    "for v in vals : \n",
    "    subject.on_next(v)\n",
    "notification_center"
   ]
  },
  {
   "cell_type": "code",
   "execution_count": null,
   "id": "b992291d",
   "metadata": {},
   "outputs": [],
   "source": []
  }
 ],
 "metadata": {
  "interpreter": {
   "hash": "c5762d63910e6cfa09ad734214a1d8b0936df4738b308017580dcdb53527c040"
  },
  "kernelspec": {
   "display_name": "UserData",
   "language": "python",
   "name": "python3"
  },
  "language_info": {
   "codemirror_mode": {
    "name": "ipython",
    "version": 3
   },
   "file_extension": ".py",
   "mimetype": "text/x-python",
   "name": "python",
   "nbconvert_exporter": "python",
   "pygments_lexer": "ipython3",
   "version": "3.8.10"
  }
 },
 "nbformat": 4,
 "nbformat_minor": 5
}
